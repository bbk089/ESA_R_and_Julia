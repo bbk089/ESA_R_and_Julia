{
 "cells": [
  {
   "cell_type": "markdown",
   "id": "f2e450de",
   "metadata": {},
   "source": [
    "**Exercise 3 (JULIA)**\n",
    "Create a 2x4 two dimensional matrix with random floats in it and in the next step determine the biggest element."
   ]
  },
  {
   "cell_type": "code",
   "execution_count": 10,
   "id": "81840596",
   "metadata": {},
   "outputs": [
    {
     "data": {
      "text/plain": [
       "4×4 Matrix{Int64}:\n",
       " 97  19  16   5\n",
       " 10  87  66  70\n",
       " 16  14  10   1\n",
       " 19  83  25  94"
      ]
     },
     "execution_count": 10,
     "metadata": {},
     "output_type": "execute_result"
    }
   ],
   "source": [
    "matrix = rand(1:100,4,4)"
   ]
  },
  {
   "cell_type": "code",
   "execution_count": 11,
   "id": "fd740d80",
   "metadata": {},
   "outputs": [
    {
     "data": {
      "text/plain": [
       "(97, CartesianIndex(1, 1))"
      ]
     },
     "execution_count": 11,
     "metadata": {},
     "output_type": "execute_result"
    }
   ],
   "source": [
    "findmax(matrix)"
   ]
  },
  {
   "cell_type": "markdown",
   "id": "f536600d",
   "metadata": {},
   "source": [
    "**Exercise 4 (JULIA)**"
   ]
  },
  {
   "cell_type": "markdown",
   "id": "b5a8be1f",
   "metadata": {},
   "source": [
    "1. Create two matrices of the same layout and test if addition and subtraction of the matrix works as expected: C = A + B"
   ]
  },
  {
   "cell_type": "code",
   "execution_count": 17,
   "id": "cca236db",
   "metadata": {},
   "outputs": [
    {
     "data": {
      "text/plain": [
       "2×2 Matrix{Int64}:\n",
       " 10  10\n",
       " 18  17"
      ]
     },
     "execution_count": 17,
     "metadata": {},
     "output_type": "execute_result"
    }
   ],
   "source": [
    "matrixA = rand(1:20,2,2)"
   ]
  },
  {
   "cell_type": "code",
   "execution_count": 18,
   "id": "c9f4db9c",
   "metadata": {},
   "outputs": [
    {
     "data": {
      "text/plain": [
       "2×2 Matrix{Int64}:\n",
       " 1  17\n",
       " 6   9"
      ]
     },
     "execution_count": 18,
     "metadata": {},
     "output_type": "execute_result"
    }
   ],
   "source": [
    "matrixB = rand(1:20,2,2)"
   ]
  },
  {
   "cell_type": "code",
   "execution_count": 19,
   "id": "8a92ed27",
   "metadata": {},
   "outputs": [
    {
     "data": {
      "text/plain": [
       "2×2 Matrix{Int64}:\n",
       " 11  27\n",
       " 24  26"
      ]
     },
     "execution_count": 19,
     "metadata": {},
     "output_type": "execute_result"
    }
   ],
   "source": [
    "matrixSUM = matrixA + matrixB"
   ]
  },
  {
   "cell_type": "code",
   "execution_count": 20,
   "id": "e94b05f3",
   "metadata": {},
   "outputs": [
    {
     "data": {
      "text/plain": [
       "2×2 Matrix{Int64}:\n",
       "  9  -7\n",
       " 12   8"
      ]
     },
     "execution_count": 20,
     "metadata": {},
     "output_type": "execute_result"
    }
   ],
   "source": [
    "matrixSUB = matrixA - matrixB"
   ]
  },
  {
   "cell_type": "code",
   "execution_count": 7,
   "id": "888b8925",
   "metadata": {},
   "outputs": [],
   "source": [
    "# Matrix works as expected"
   ]
  },
  {
   "cell_type": "markdown",
   "id": "dd7f87e7",
   "metadata": {},
   "source": [
    "2. Now compare matrix multiplication either this way A * B and this way A .* B. Whats the difference?!"
   ]
  },
  {
   "cell_type": "code",
   "execution_count": 21,
   "id": "c4710f56",
   "metadata": {},
   "outputs": [
    {
     "data": {
      "text/plain": [
       "2×2 Matrix{Int64}:\n",
       "  70  260\n",
       " 120  459"
      ]
     },
     "execution_count": 21,
     "metadata": {},
     "output_type": "execute_result"
    }
   ],
   "source": [
    "matrixA * matrixB"
   ]
  },
  {
   "cell_type": "code",
   "execution_count": 23,
   "id": "3e415e37",
   "metadata": {},
   "outputs": [
    {
     "data": {
      "text/plain": [
       "2×2 Matrix{Int64}:\n",
       "  10  170\n",
       " 108  153"
      ]
     },
     "execution_count": 23,
     "metadata": {},
     "output_type": "execute_result"
    }
   ],
   "source": [
    "matrixA .* matrixB"
   ]
  },
  {
   "cell_type": "code",
   "execution_count": 24,
   "id": "d5cd4a99",
   "metadata": {},
   "outputs": [],
   "source": [
    "# Mit * wird die Matrizenmultiplikation durchgeführt. Mit .* multiplizieren sich lediglich die Werte miteinander, es findet keine Matrizenmultiplikation statt."
   ]
  },
  {
   "cell_type": "markdown",
   "id": "ec0d5320",
   "metadata": {},
   "source": [
    "3. What about matrix division with \"/\" or \"\\\"?!"
   ]
  },
  {
   "cell_type": "code",
   "execution_count": 25,
   "id": "31d79638",
   "metadata": {},
   "outputs": [
    {
     "data": {
      "text/plain": [
       "2×2 Matrix{Float64}:\n",
       " -0.322581  1.72043\n",
       " -0.645161  3.10753"
      ]
     },
     "execution_count": 25,
     "metadata": {},
     "output_type": "execute_result"
    }
   ],
   "source": [
    "matrixA / matrixB"
   ]
  },
  {
   "cell_type": "code",
   "execution_count": 26,
   "id": "f8d03cd6",
   "metadata": {},
   "outputs": [
    {
     "data": {
      "text/plain": [
       "2×2 Matrix{Float64}:\n",
       "  4.3  -19.9\n",
       " -4.2   21.6"
      ]
     },
     "execution_count": 26,
     "metadata": {},
     "output_type": "execute_result"
    }
   ],
   "source": [
    "matrixA \\ matrixB"
   ]
  },
  {
   "cell_type": "code",
   "execution_count": 27,
   "id": "2d7f4fc2",
   "metadata": {},
   "outputs": [],
   "source": [
    "# Mit \"/\" wird die Matrizendivision durchgeführt. Mit \"\\\" klappt es nicht."
   ]
  },
  {
   "cell_type": "markdown",
   "id": "153eda96",
   "metadata": {},
   "source": [
    "4. Create a 3x3 integer matrix A with useful numbers. Now try A+1, A-1, A*2, A/2."
   ]
  },
  {
   "cell_type": "code",
   "execution_count": 28,
   "id": "6c8e96c5",
   "metadata": {},
   "outputs": [
    {
     "data": {
      "text/plain": [
       "3×3 Matrix{Int64}:\n",
       " 3  4  6\n",
       " 1  9  5\n",
       " 8  4  9"
      ]
     },
     "execution_count": 28,
     "metadata": {},
     "output_type": "execute_result"
    }
   ],
   "source": [
    "matrix_A = rand(1:10,3,3)"
   ]
  },
  {
   "cell_type": "code",
   "execution_count": 29,
   "id": "f2897675",
   "metadata": {},
   "outputs": [
    {
     "ename": "LoadError",
     "evalue": "MethodError: no method matching +(::Matrix{Int64}, ::Int64)\nFor element-wise addition, use broadcasting with dot syntax: array .+ scalar\n\u001b[0mClosest candidates are:\n\u001b[0m  +(::Any, ::Any, \u001b[91m::Any\u001b[39m, \u001b[91m::Any...\u001b[39m) at /Applications/Julia-1.7.app/Contents/Resources/julia/share/julia/base/operators.jl:655\n\u001b[0m  +(\u001b[91m::T\u001b[39m, ::T) where T<:Union{Int128, Int16, Int32, Int64, Int8, UInt128, UInt16, UInt32, UInt64, UInt8} at /Applications/Julia-1.7.app/Contents/Resources/julia/share/julia/base/int.jl:87\n\u001b[0m  +(\u001b[91m::Base.TwicePrecision\u001b[39m, ::Number) at /Applications/Julia-1.7.app/Contents/Resources/julia/share/julia/base/twiceprecision.jl:279\n\u001b[0m  ...",
     "output_type": "error",
     "traceback": [
      "MethodError: no method matching +(::Matrix{Int64}, ::Int64)\nFor element-wise addition, use broadcasting with dot syntax: array .+ scalar\n\u001b[0mClosest candidates are:\n\u001b[0m  +(::Any, ::Any, \u001b[91m::Any\u001b[39m, \u001b[91m::Any...\u001b[39m) at /Applications/Julia-1.7.app/Contents/Resources/julia/share/julia/base/operators.jl:655\n\u001b[0m  +(\u001b[91m::T\u001b[39m, ::T) where T<:Union{Int128, Int16, Int32, Int64, Int8, UInt128, UInt16, UInt32, UInt64, UInt8} at /Applications/Julia-1.7.app/Contents/Resources/julia/share/julia/base/int.jl:87\n\u001b[0m  +(\u001b[91m::Base.TwicePrecision\u001b[39m, ::Number) at /Applications/Julia-1.7.app/Contents/Resources/julia/share/julia/base/twiceprecision.jl:279\n\u001b[0m  ...",
      "",
      "Stacktrace:",
      " [1] top-level scope",
      "   @ In[29]:1",
      " [2] eval",
      "   @ ./boot.jl:373 [inlined]",
      " [3] include_string(mapexpr::typeof(REPL.softscope), mod::Module, code::String, filename::String)",
      "   @ Base ./loading.jl:1196"
     ]
    }
   ],
   "source": [
    "matrix_A + 1"
   ]
  },
  {
   "cell_type": "code",
   "execution_count": 30,
   "id": "b958ed6e",
   "metadata": {},
   "outputs": [
    {
     "ename": "LoadError",
     "evalue": "MethodError: no method matching -(::Matrix{Int64}, ::Int64)\nFor element-wise subtraction, use broadcasting with dot syntax: array .- scalar\n\u001b[0mClosest candidates are:\n\u001b[0m  -(\u001b[91m::T\u001b[39m, ::T) where T<:Union{Int128, Int16, Int32, Int64, Int8, UInt128, UInt16, UInt32, UInt64, UInt8} at /Applications/Julia-1.7.app/Contents/Resources/julia/share/julia/base/int.jl:86\n\u001b[0m  -(\u001b[91m::LinearAlgebra.UniformScaling\u001b[39m, ::Number) at /Applications/Julia-1.7.app/Contents/Resources/julia/share/julia/stdlib/v1.7/LinearAlgebra/src/uniformscaling.jl:147\n\u001b[0m  -(\u001b[91m::Rational\u001b[39m, ::Integer) at /Applications/Julia-1.7.app/Contents/Resources/julia/share/julia/base/rational.jl:311\n\u001b[0m  ...",
     "output_type": "error",
     "traceback": [
      "MethodError: no method matching -(::Matrix{Int64}, ::Int64)\nFor element-wise subtraction, use broadcasting with dot syntax: array .- scalar\n\u001b[0mClosest candidates are:\n\u001b[0m  -(\u001b[91m::T\u001b[39m, ::T) where T<:Union{Int128, Int16, Int32, Int64, Int8, UInt128, UInt16, UInt32, UInt64, UInt8} at /Applications/Julia-1.7.app/Contents/Resources/julia/share/julia/base/int.jl:86\n\u001b[0m  -(\u001b[91m::LinearAlgebra.UniformScaling\u001b[39m, ::Number) at /Applications/Julia-1.7.app/Contents/Resources/julia/share/julia/stdlib/v1.7/LinearAlgebra/src/uniformscaling.jl:147\n\u001b[0m  -(\u001b[91m::Rational\u001b[39m, ::Integer) at /Applications/Julia-1.7.app/Contents/Resources/julia/share/julia/base/rational.jl:311\n\u001b[0m  ...",
      "",
      "Stacktrace:",
      " [1] top-level scope",
      "   @ In[30]:1",
      " [2] eval",
      "   @ ./boot.jl:373 [inlined]",
      " [3] include_string(mapexpr::typeof(REPL.softscope), mod::Module, code::String, filename::String)",
      "   @ Base ./loading.jl:1196"
     ]
    }
   ],
   "source": [
    "matrix_A - 1"
   ]
  },
  {
   "cell_type": "code",
   "execution_count": 31,
   "id": "50deb020",
   "metadata": {},
   "outputs": [
    {
     "data": {
      "text/plain": [
       "3×3 Matrix{Int64}:\n",
       "  6   8  12\n",
       "  2  18  10\n",
       " 16   8  18"
      ]
     },
     "execution_count": 31,
     "metadata": {},
     "output_type": "execute_result"
    }
   ],
   "source": [
    "matrix_A * 2"
   ]
  },
  {
   "cell_type": "code",
   "execution_count": 32,
   "id": "16148ea7",
   "metadata": {},
   "outputs": [
    {
     "data": {
      "text/plain": [
       "3×3 Matrix{Float64}:\n",
       " 1.5  2.0  3.0\n",
       " 0.5  4.5  2.5\n",
       " 4.0  2.0  4.5"
      ]
     },
     "execution_count": 32,
     "metadata": {},
     "output_type": "execute_result"
    }
   ],
   "source": [
    "matrix_A / 2"
   ]
  },
  {
   "cell_type": "code",
   "execution_count": 33,
   "id": "e62fbe61",
   "metadata": {},
   "outputs": [],
   "source": [
    "# Bei A+1 und A-1 treten Fehler auf. A*2 und A/2 funktionieren einfwandfrei."
   ]
  },
  {
   "cell_type": "markdown",
   "id": "8716606e",
   "metadata": {},
   "source": [
    "5. Now multiply a 3x4 matrix with a suitable (4)vector."
   ]
  },
  {
   "cell_type": "code",
   "execution_count": 34,
   "id": "fb49f452",
   "metadata": {},
   "outputs": [
    {
     "data": {
      "text/plain": [
       "3×4 Matrix{Int64}:\n",
       " 5  8  3  8\n",
       " 2  2  9  2\n",
       " 9  2  6  4"
      ]
     },
     "execution_count": 34,
     "metadata": {},
     "output_type": "execute_result"
    }
   ],
   "source": [
    "matrix_X = rand(1:10,3,4)"
   ]
  },
  {
   "cell_type": "code",
   "execution_count": 35,
   "id": "75fc6b3d",
   "metadata": {},
   "outputs": [
    {
     "data": {
      "text/plain": [
       "4-element Vector{Int64}:\n",
       " 1\n",
       " 2\n",
       " 3\n",
       " 4"
      ]
     },
     "execution_count": 35,
     "metadata": {},
     "output_type": "execute_result"
    }
   ],
   "source": [
    "v = [1:3;4]"
   ]
  },
  {
   "cell_type": "code",
   "execution_count": 36,
   "id": "259f2536",
   "metadata": {},
   "outputs": [
    {
     "data": {
      "text/plain": [
       "3-element Vector{Int64}:\n",
       " 62\n",
       " 41\n",
       " 47"
      ]
     },
     "execution_count": 36,
     "metadata": {},
     "output_type": "execute_result"
    }
   ],
   "source": [
    "matrix_X * v"
   ]
  },
  {
   "cell_type": "code",
   "execution_count": null,
   "id": "7ad31c6b",
   "metadata": {},
   "outputs": [],
   "source": [
    "# Die Matrizen-Vector-Multiplikation funktioniert."
   ]
  }
 ],
 "metadata": {
  "kernelspec": {
   "display_name": "Julia 1.7.3",
   "language": "julia",
   "name": "julia-1.7"
  },
  "language_info": {
   "file_extension": ".jl",
   "mimetype": "application/julia",
   "name": "julia",
   "version": "1.7.3"
  }
 },
 "nbformat": 4,
 "nbformat_minor": 5
}
